{
 "cells": [
  {
   "cell_type": "code",
   "execution_count": 2,
   "id": "7c6a6f92-484a-42b4-8395-c967d513ac42",
   "metadata": {},
   "outputs": [
    {
     "data": {
      "text/plain": [
       "True"
      ]
     },
     "execution_count": 2,
     "metadata": {},
     "output_type": "execute_result"
    }
   ],
   "source": [
    "import os\n",
    "import requests\n",
    "from urllib.parse import urlparse\n",
    "from io import BytesIO\n",
    "from PIL import Image, ImageDraw\n",
    "import matplotlib.pyplot as plt\n",
    "import os\n",
    "import time\n",
    "import uuid\n",
    "from msrest.authentication import ApiKeyCredentials\n",
    "\n",
    "from dotenv import load_dotenv\n",
    "from pathlib import Path\n",
    "\n",
    "dotenv_path = Path(\"../.env\")\n",
    "load_dotenv(dotenv_path=dotenv_path)"
   ]
  },
  {
   "cell_type": "code",
   "execution_count": 3,
   "id": "5ffe7b82-ef6e-4e7b-b29d-63aecb0a0d59",
   "metadata": {},
   "outputs": [],
   "source": [
    "from azure.cognitiveservices.vision.customvision.training import (\n",
    "    CustomVisionTrainingClient,\n",
    ")\n",
    "\n",
    "\n",
    "from azure.cognitiveservices.vision.customvision.prediction import (\n",
    "    CustomVisionPredictionClient,\n",
    ")"
   ]
  },
  {
   "cell_type": "code",
   "execution_count": 4,
   "id": "31044d7b-f209-4ead-bce4-2a61405fa983",
   "metadata": {},
   "outputs": [],
   "source": [
    "TRAINING_ENDPOINT = os.getenv(\"CUSTOM_VISION_TRAINING_ENDPOINT\")\n",
    "training_key = os.getenv(\"CUSTOM_VISION_TRAINING_KEY\")\n",
    "training_resource_id = os.getenv(\"CUSTOM_VISION_TRAINING_RESOURCE_ID\")"
   ]
  },
  {
   "cell_type": "code",
   "execution_count": 5,
   "id": "420dd710-504b-4012-9dad-429be5302bef",
   "metadata": {},
   "outputs": [],
   "source": [
    "PREDICTION_ENDPOINT = os.getenv(\"CUSTOM_VISION_PREDICTION_ENDPOINT\")\n",
    "prediction_key = os.getenv(\"CUSTOM_VISION_PREDICTION_KEY\")\n",
    "prediction_resource_id = os.getenv(\"CUSTOM_VISION_PREDICTION_RESOURCE_ID\")"
   ]
  },
  {
   "cell_type": "code",
   "execution_count": 6,
   "id": "5ec238c5-4e00-4448-b042-9c05dd0d8a96",
   "metadata": {},
   "outputs": [],
   "source": [
    "training_credentials = ApiKeyCredentials(in_headers={\"Training-key\": training_key})\n",
    "\n",
    "\n",
    "trainer = CustomVisionTrainingClient(TRAINING_ENDPOINT, training_credentials)"
   ]
  },
  {
   "cell_type": "code",
   "execution_count": 7,
   "id": "7483f89d-75d9-405e-8964-422a7d364301",
   "metadata": {},
   "outputs": [
    {
     "data": {
      "text/plain": [
       "'3.4-preview'"
      ]
     },
     "execution_count": 7,
     "metadata": {},
     "output_type": "execute_result"
    }
   ],
   "source": [
    "trainer.api_version"
   ]
  },
  {
   "cell_type": "code",
   "execution_count": 8,
   "id": "c8f5e259-90da-4d74-a511-ac4d4b001022",
   "metadata": {},
   "outputs": [
    {
     "name": "stdout",
     "output_type": "stream",
     "text": [
      "Your Object Detection Training project has been created. Please move on.\n"
     ]
    }
   ],
   "source": [
    "# Find the object detection domain\n",
    "obj_detection_domain = next(\n",
    "    domain\n",
    "    for domain in trainer.get_domains()\n",
    "    if domain.type == \"ObjectDetection\" and domain.name == \"General\"\n",
    ")\n",
    "\n",
    "# Create a new project\n",
    "print(\"Your Object Detection Training project has been created. Please move on.\")\n",
    "project_name = \"lighter-object-detection-custom\"\n",
    "project = trainer.create_project(\n",
    "    project_name, domain_id=obj_detection_domain.id)"
   ]
  },
  {
   "cell_type": "code",
   "execution_count": 9,
   "id": "6d123ae3-f7dd-4c26-9620-6a163c7dcf2c",
   "metadata": {},
   "outputs": [
    {
     "data": {
      "text/plain": [
       "'Succeeded'"
      ]
     },
     "execution_count": 9,
     "metadata": {},
     "output_type": "execute_result"
    }
   ],
   "source": [
    "project.status"
   ]
  },
  {
   "cell_type": "code",
   "execution_count": 10,
   "id": "2e16f5ec-dfab-4655-9df8-10d442e775a5",
   "metadata": {},
   "outputs": [],
   "source": [
    "lighter_tag = trainer.create_tag(project.id, \"lighter-object-detection-custom\")"
   ]
  },
  {
   "cell_type": "code",
   "execution_count": 11,
   "id": "70c7381c",
   "metadata": {},
   "outputs": [],
   "source": [
    "# uploading images to Custom Vision"
   ]
  }
 ],
 "metadata": {
  "kernelspec": {
   "display_name": "Python 3 (ipykernel)",
   "language": "python",
   "name": "python3"
  },
  "language_info": {
   "codemirror_mode": {
    "name": "ipython",
    "version": 3
   },
   "file_extension": ".py",
   "mimetype": "text/x-python",
   "name": "python",
   "nbconvert_exporter": "python",
   "pygments_lexer": "ipython3",
   "version": "3.8.19"
  }
 },
 "nbformat": 4,
 "nbformat_minor": 5
}
