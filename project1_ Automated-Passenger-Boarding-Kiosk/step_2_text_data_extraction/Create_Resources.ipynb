{
 "cells": [
  {
   "cell_type": "code",
   "execution_count": 1,
   "metadata": {},
   "outputs": [],
   "source": [
    "from azure.mgmt.resource import SubscriptionClient\n",
    "from azure.identity import DefaultAzureCredential\n",
    "\n",
    "credential = DefaultAzureCredential()"
   ]
  },
  {
   "cell_type": "code",
   "execution_count": 2,
   "metadata": {},
   "outputs": [
    {
     "name": "stdout",
     "output_type": "stream",
     "text": [
      "Subscription ID: 5b7d2bfa-802a-431d-8c31-1c4069bbb309\n"
     ]
    }
   ],
   "source": [
    "# Subscription ID\n",
    "subscription_client = SubscriptionClient(credential)\n",
    "\n",
    "# Liste aller Abonnements abrufen, auf die der authentifizierte Account Zugriff hat\n",
    "subscriptions = subscription_client.subscriptions.list()\n",
    "\n",
    "# Die erste Subscription ID speichern\n",
    "subscription_id = next(subscriptions).subscription_id\n",
    "\n",
    "print(f\"Subscription ID: {subscription_id}\")"
   ]
  },
  {
   "cell_type": "code",
   "execution_count": 3,
   "metadata": {},
   "outputs": [
    {
     "name": "stdout",
     "output_type": "stream",
     "text": [
      "Using existing resource group: aind-257943\n"
     ]
    }
   ],
   "source": [
    "from azure.mgmt.resource import ResourceManagementClient\n",
    "\n",
    "resource_client = ResourceManagementClient(credential, subscription_id)\n",
    "\n",
    "# List all resource groups\n",
    "resource_groups = resource_client.resource_groups.list()\n",
    "\n",
    "# Get the name of the first resource group\n",
    "resource_group_name = next(resource_groups).name\n",
    "\n",
    "print(f\"Using existing resource group: {resource_group_name}\")"
   ]
  },
  {
   "cell_type": "code",
   "execution_count": 4,
   "metadata": {},
   "outputs": [],
   "source": [
    "from azure.mgmt.storage import StorageManagementClient\n",
    "from azure.mgmt.storage.models import StorageAccountCreateParameters, Sku\n",
    "\n",
    "storage_client = StorageManagementClient(credential, subscription_id)\n",
    "\n",
    "storage_account_name = \"boardingkioskstorageacc\"\n",
    "location = \"eastus\""
   ]
  },
  {
   "cell_type": "code",
   "execution_count": 5,
   "metadata": {},
   "outputs": [
    {
     "name": "stdout",
     "output_type": "stream",
     "text": [
      "Storage account name 'boardingkioskstorageacc' is not available.\n"
     ]
    }
   ],
   "source": [
    "# Check if the storage account name is available\n",
    "availability_result = storage_client.storage_accounts.check_name_availability(\n",
    "    {\"name\": storage_account_name}\n",
    ")\n",
    "\n",
    "if not availability_result.name_available:\n",
    "    print(f\"Storage account name '{storage_account_name}' is not available.\")\n",
    "    exit(1)"
   ]
  },
  {
   "cell_type": "code",
   "execution_count": 14,
   "metadata": {},
   "outputs": [
    {
     "name": "stdout",
     "output_type": "stream",
     "text": [
      "Storage account 'boardingkioskstorageacc' already exists.\n"
     ]
    }
   ],
   "source": [
    "from azure.mgmt.storage import StorageManagementClient\n",
    "from azure.mgmt.storage.models import StorageAccountCreateParameters, Sku\n",
    "\n",
    "# Create a StorageManagementClient\n",
    "storage_client = StorageManagementClient(credential, subscription_id)\n",
    "\n",
    "# Check if the storage account already exists\n",
    "storage_account_list = storage_client.storage_accounts.list_by_resource_group(\n",
    "    resource_group_name\n",
    ")\n",
    "storage_account_exists = any(\n",
    "    account.name == storage_account_name for account in storage_account_list\n",
    ")\n",
    "\n",
    "if not storage_account_exists:\n",
    "    # Create the storage account\n",
    "    storage_account = storage_client.storage_accounts.begin_create(\n",
    "        resource_group_name,\n",
    "        storage_account_name,\n",
    "        StorageAccountCreateParameters(\n",
    "            sku=Sku(name=\"Standard_LRS\"), kind=\"StorageV2\", location=location\n",
    "        ),\n",
    "    ).result()\n",
    "\n",
    "    print(\n",
    "        f\"Storage account '{storage_account.name}' created in location '{storage_account.location}'.\"\n",
    "    )\n",
    "\n",
    "\n",
    "else:\n",
    "    print(f\"Storage account '{storage_account_name}' already exists.\")"
   ]
  }
 ],
 "metadata": {
  "kernelspec": {
   "display_name": "azure",
   "language": "python",
   "name": "python3"
  },
  "language_info": {
   "codemirror_mode": {
    "name": "ipython",
    "version": 3
   },
   "file_extension": ".py",
   "mimetype": "text/x-python",
   "name": "python",
   "nbconvert_exporter": "python",
   "pygments_lexer": "ipython3",
   "version": "3.8.19"
  }
 },
 "nbformat": 4,
 "nbformat_minor": 2
}
