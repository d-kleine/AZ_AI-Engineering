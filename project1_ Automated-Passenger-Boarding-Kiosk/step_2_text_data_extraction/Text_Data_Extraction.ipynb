{
 "cells": [
  {
   "cell_type": "markdown",
   "id": "7544975e",
   "metadata": {},
   "source": []
  },
  {
   "cell_type": "markdown",
   "id": "819840c2",
   "metadata": {},
   "source": [
    "# Importing Azure Form Recognizer Python modules\n"
   ]
  },
  {
   "cell_type": "code",
   "execution_count": 1,
   "id": "bdaee62f",
   "metadata": {},
   "outputs": [],
   "source": [
    "import os\n",
    "from azure.ai.formrecognizer import FormRecognizerClient\n",
    "from azure.ai.formrecognizer import FormTrainingClient\n",
    "from azure.core.credentials import AzureKeyCredential\n",
    "from dotenv import load_dotenv"
   ]
  },
  {
   "cell_type": "markdown",
   "id": "d7626cc4",
   "metadata": {},
   "source": [
    "# Form Recognizer endpoint and key and instantiate object\n"
   ]
  },
  {
   "cell_type": "code",
   "execution_count": 2,
   "id": "12bc9f7d",
   "metadata": {},
   "outputs": [],
   "source": [
    "# Load .env file\n",
    "load_dotenv()\n",
    "\n",
    "# Get the environment variable\n",
    "AZURE_FORM_RECOGNIZER_ENDPOINT = os.getenv(\"AZURE_FORM_RECOGNIZER_ENDPOINT\")\n",
    "AZURE_FORM_RECOGNIZER_KEY = os.getenv(\"AZURE_FORM_RECOGNIZER_KEY\")\n",
    "\n",
    "endpoint = AZURE_FORM_RECOGNIZER_ENDPOINT\n",
    "key = AZURE_FORM_RECOGNIZER_KEY\n",
    "\n",
    "\n",
    "form_recognizer_client = FormRecognizerClient(\n",
    "    endpoint=endpoint, credential=AzureKeyCredential(key)\n",
    ")"
   ]
  },
  {
   "cell_type": "markdown",
   "id": "8953e889",
   "metadata": {},
   "source": [
    "# ID Card detection\n"
   ]
  },
  {
   "cell_type": "code",
   "execution_count": 3,
   "id": "f0051aef",
   "metadata": {},
   "outputs": [],
   "source": [
    "id_card_file_path = \"ca-dl-avkash-chauhan.png\"\n",
    "\n",
    "with open(id_card_file_path, \"rb\") as c:\n",
    "    poller = form_recognizer_client.begin_recognize_identity_documents(\n",
    "        identity_document=c\n",
    "    )\n",
    "id_documents = poller.result()"
   ]
  },
  {
   "cell_type": "code",
   "execution_count": 4,
   "id": "63632234",
   "metadata": {},
   "outputs": [
    {
     "name": "stdout",
     "output_type": "stream",
     "text": [
      "--------Recognizing ID Card document #1--------\n",
      "FirstName: AVKASH CHAUHAN has confidence: 0.76\n",
      "LastName: CHAUHAN has confidence: 0.883\n",
      "DocumentNumber: D1234578 has confidence: 0.995\n",
      "DateOfBirth: 1990-01-01 has confidence: 0.995\n",
      "DateOfExpiration: 2025-01-01 has confidence: 0.992\n",
      "Sex:  has confidence: 0.161\n",
      "Address: 1234 Circle Ave, Apt 123 San Mateo, CA, 94401 has confidence: 0.585\n",
      "CountryRegion: USA has confidence: 0.99\n",
      "Region: California has confidence: 0.984\n"
     ]
    }
   ],
   "source": [
    "for idx, id_document in enumerate(id_documents):\n",
    "    FIELD_KEYS = [\n",
    "        \"FirstName\",\n",
    "        \"LastName\",\n",
    "        \"DocumentNumber\",\n",
    "        \"DateOfBirth\",\n",
    "        \"DateOfExpiration\",\n",
    "        \"Sex\",\n",
    "        \"Address\",\n",
    "        \"CountryRegion\",\n",
    "        \"Region\",\n",
    "    ]\n",
    "\n",
    "for idx, id_document in enumerate(id_documents):\n",
    "    print(f\"--------Recognizing ID Card document #{idx + 1}--------\")\n",
    "\n",
    "    for field_key in FIELD_KEYS:\n",
    "        field = id_document.fields.get(field_key)\n",
    "\n",
    "        if field:\n",
    "            # Special handling for the 'Sex' field\n",
    "            if field_key == \"Sex\":\n",
    "                value = field.value[1:]\n",
    "            else:\n",
    "                value = field.value\n",
    "\n",
    "            print(f\"{field_key}: {value} has confidence: {field.confidence}\")"
   ]
  },
  {
   "cell_type": "markdown",
   "id": "0169d0b1",
   "metadata": {},
   "source": [
    "# Train Custom Boarding Pass Recognition\n"
   ]
  },
  {
   "cell_type": "code",
   "execution_count": 5,
   "id": "bf668096",
   "metadata": {},
   "outputs": [],
   "source": [
    "form_training_client = FormTrainingClient(\n",
    "    endpoint=endpoint, credential=AzureKeyCredential(key)\n",
    ")\n",
    "\n",
    "saved_model_list = form_training_client.list_custom_models()"
   ]
  },
  {
   "cell_type": "code",
   "execution_count": 6,
   "id": "feaf0d51",
   "metadata": {},
   "outputs": [],
   "source": [
    "trainingDataUrl = os.getenv(\"AZURE_BLOB_CONTAINER_SAS_URI\")"
   ]
  },
  {
   "cell_type": "code",
   "execution_count": 7,
   "id": "ccfa1786",
   "metadata": {},
   "outputs": [],
   "source": [
    "training_process = form_training_client.begin_training(\n",
    "    trainingDataUrl, use_training_labels=False\n",
    ")\n",
    "custom_model = training_process.result()"
   ]
  },
  {
   "cell_type": "code",
   "execution_count": 8,
   "id": "f80b1cbe",
   "metadata": {},
   "outputs": [
    {
     "data": {
      "text/plain": [
       "CustomFormModel(model_id=ff651388-95a7-4be5-868b-8627c17f7aff, status=ready, training_started_on=2024-04-19 12:23:56+00:00, training_completed_on=2024-04-19 12:24:10+00:00, submodels=[CustomFormSubmodel(accuracy=None, model_id=ff651388-95a7-4be5-868b-8627c17f7aff, fields={'field-0': CustomFormModelField(label=Baggage, name=field-0, accuracy=None), 'field-1': CustomFormModelField(label=Boarding Time, name=field-1, accuracy=None), 'field-2': CustomFormModelField(label=Carrier, name=field-2, accuracy=None), 'field-3': CustomFormModelField(label=Chicago, name=field-3, accuracy=None), 'field-4': CustomFormModelField(label=Class, name=field-4, accuracy=None), 'field-5': CustomFormModelField(label=Date, name=field-5, accuracy=None), 'field-6': CustomFormModelField(label=Flight No., name=field-6, accuracy=None), 'field-7': CustomFormModelField(label=From, name=field-7, accuracy=None), 'field-8': CustomFormModelField(label=From:, name=field-8, accuracy=None), 'field-9': CustomFormModelField(label=GATE, name=field-9, a"
      ]
     },
     "execution_count": 8,
     "metadata": {},
     "output_type": "execute_result"
    }
   ],
   "source": [
    "custom_model"
   ]
  },
  {
   "cell_type": "code",
   "execution_count": 9,
   "id": "08797dbb",
   "metadata": {},
   "outputs": [
    {
     "data": {
      "text/plain": [
       "'ff651388-95a7-4be5-868b-8627c17f7aff'"
      ]
     },
     "execution_count": 9,
     "metadata": {},
     "output_type": "execute_result"
    }
   ],
   "source": [
    "custom_model.model_id"
   ]
  },
  {
   "cell_type": "code",
   "execution_count": 10,
   "id": "6aeba7fd",
   "metadata": {},
   "outputs": [
    {
     "data": {
      "text/plain": [
       "'ready'"
      ]
     },
     "execution_count": 10,
     "metadata": {},
     "output_type": "execute_result"
    }
   ],
   "source": [
    "custom_model.status"
   ]
  },
  {
   "cell_type": "code",
   "execution_count": 11,
   "id": "e45f79c4",
   "metadata": {},
   "outputs": [
    {
     "data": {
      "text/plain": [
       "datetime.datetime(2024, 4, 19, 12, 23, 56, tzinfo=<isodate.tzinfo.Utc object at 0x00000208D860FDF0>)"
      ]
     },
     "execution_count": 11,
     "metadata": {},
     "output_type": "execute_result"
    }
   ],
   "source": [
    "custom_model.training_started_on"
   ]
  },
  {
   "cell_type": "code",
   "execution_count": 12,
   "id": "9f2255ee",
   "metadata": {},
   "outputs": [
    {
     "data": {
      "text/plain": [
       "datetime.datetime(2024, 4, 19, 12, 24, 10, tzinfo=<isodate.tzinfo.Utc object at 0x00000208D860FDF0>)"
      ]
     },
     "execution_count": 12,
     "metadata": {},
     "output_type": "execute_result"
    }
   ],
   "source": [
    "custom_model.training_completed_on"
   ]
  },
  {
   "cell_type": "code",
   "execution_count": 18,
   "id": "7fdb4aa1",
   "metadata": {},
   "outputs": [
    {
     "data": {
      "text/plain": [
       "[TrainingDocumentInfo(name=boarding-james-webb.pdf, status=succeeded, page_count=1, errors=[], model_id=None),\n",
       " TrainingDocumentInfo(name=boarding-james.pdf, status=succeeded, page_count=1, errors=[], model_id=None),\n",
       " TrainingDocumentInfo(name=boarding-libby.pdf, status=succeeded, page_count=1, errors=[], model_id=None),\n",
       " TrainingDocumentInfo(name=boarding-radha-s-kumar.pdf, status=succeeded, page_count=1, errors=[], model_id=None),\n",
       " TrainingDocumentInfo(name=boarding-sameer.pdf, status=succeeded, page_count=1, errors=[], model_id=None)]"
      ]
     },
     "execution_count": 18,
     "metadata": {},
     "output_type": "execute_result"
    }
   ],
   "source": [
    "custom_model.training_documents"
   ]
  },
  {
   "cell_type": "code",
   "execution_count": 14,
   "id": "9c99ef09",
   "metadata": {},
   "outputs": [
    {
     "data": {
      "text/plain": [
       "CustomFormModelProperties(is_composed_model=False)"
      ]
     },
     "execution_count": 14,
     "metadata": {},
     "output_type": "execute_result"
    }
   ],
   "source": [
    "custom_model.properties"
   ]
  },
  {
   "cell_type": "markdown",
   "id": "80aec01e",
   "metadata": {},
   "source": [
    "# Extract Information Using the custom model\n"
   ]
  },
  {
   "cell_type": "code",
   "execution_count": 15,
   "id": "e288a7ca",
   "metadata": {},
   "outputs": [],
   "source": [
    "file_path = \"boarding-avkash.pdf\""
   ]
  },
  {
   "cell_type": "code",
   "execution_count": 16,
   "id": "65e61975",
   "metadata": {},
   "outputs": [],
   "source": [
    "with open(file_path, \"rb\") as f:\n",
    "    poller = form_recognizer_client.begin_recognize_custom_forms(\n",
    "        model_id=custom_model.model_id,\n",
    "        form=f,\n",
    "        include_field_elements=True,\n",
    "    )\n",
    "forms = poller.result()"
   ]
  },
  {
   "cell_type": "code",
   "execution_count": 17,
   "id": "cdff928c",
   "metadata": {},
   "outputs": [
    {
     "name": "stdout",
     "output_type": "stream",
     "text": [
      "--------Recognizing Form #1--------\n",
      "Form was analyzed with model with ID ff651388-95a7-4be5-868b-8627c17f7aff\n",
      "Field 'field-0' has label 'Passenger Name' with value 'Avkash Chauhan' and a confidence score of 1.0\n",
      "Field 'field-1' has label 'Carrier' with value 'UA' and a confidence score of 1.0\n",
      "Field 'field-2' has label 'Flight No.' with value '234' and a confidence score of 1.0\n",
      "Field 'field-3' has label 'Class' with value 'E' and a confidence score of 1.0\n",
      "Field 'field-4' has label 'Passenger Name' with value 'Avkash Chauhan' and a confidence score of 0.36\n",
      "Field 'field-5' has label 'From:' with value 'San Francisco' and a confidence score of 1.0\n",
      "Field 'field-6' has label 'Date' with value 'April 20, 2022' and a confidence score of 1.0\n",
      "Field 'field-7' has label 'Baggage' with value 'NO' and a confidence score of 0.36\n",
      "Field 'field-8' has label 'Seat' with value '20A' and a confidence score of 0.86\n",
      "Field 'field-9' has label 'Seat' with value '20A' and a confidence score of 0.36\n",
      "Field 'field-10' has label 'Date' with value 'April 20, 2022' and a confidence score of 0.36\n",
      "Field 'field-11' has label 'To:' with value 'Chicago' and a confidence score of 1.0\n",
      "Field 'field-12' has label 'GATE' with value 'G1' and a confidence score of 1.0\n",
      "Field 'field-13' has label 'GATE' with value 'G1' and a confidence score of 0.36\n",
      "Field 'field-14' has label 'PST' with value '10:00 AM' and a confidence score of 1.0\n"
     ]
    }
   ],
   "source": [
    "for idx, form in enumerate(forms):\n",
    "    print(\"--------Recognizing Form #{}--------\".format(idx + 1))\n",
    "    print(\"Form was analyzed with model with ID {}\".format(form.model_id))\n",
    "    for name, field in form.fields.items():\n",
    "        print(\n",
    "            \"Field '{}' has label '{}' with value '{}' and a confidence score of {}\".format(\n",
    "                name,\n",
    "                field.label_data.text if field.label_data else name,\n",
    "                field.value,\n",
    "                field.confidence,\n",
    "            )\n",
    "        )"
   ]
  }
 ],
 "metadata": {
  "kernelspec": {
   "display_name": "Python 3 (ipykernel)",
   "language": "python",
   "name": "python3"
  },
  "language_info": {
   "codemirror_mode": {
    "name": "ipython",
    "version": 3
   },
   "file_extension": ".py",
   "mimetype": "text/x-python",
   "name": "python",
   "nbconvert_exporter": "python",
   "pygments_lexer": "ipython3",
   "version": "3.8.19"
  }
 },
 "nbformat": 4,
 "nbformat_minor": 5
}
